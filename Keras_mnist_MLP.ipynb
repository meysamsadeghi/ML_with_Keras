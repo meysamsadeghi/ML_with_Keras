{
 "cells": [
  {
   "cell_type": "code",
   "execution_count": 1,
   "metadata": {},
   "outputs": [
    {
     "name": "stdout",
     "output_type": "stream",
     "text": [
      "/home/meysam/anaconda3/envs/py36/bin/python\n",
      "3.6.8 |Anaconda, Inc.| (default, Dec 30 2018, 01:22:34) \n",
      "[GCC 7.3.0]\n",
      "sys.version_info(major=3, minor=6, micro=8, releaselevel='final', serial=0)\n"
     ]
    }
   ],
   "source": [
    " import sys\n",
    " print(sys.executable)\n",
    " print(sys.version)\n",
    " print(sys.version_info)"
   ]
  },
  {
   "cell_type": "code",
   "execution_count": 2,
   "metadata": {},
   "outputs": [
    {
     "name": "stderr",
     "output_type": "stream",
     "text": [
      "Using TensorFlow backend.\n"
     ]
    }
   ],
   "source": [
    "# Keras_mnist_MLP\n",
    "import matplotlib.pyplot as plt\n",
    "import tensorflow as tf\n",
    "import keras\n",
    "from keras.models import Model\n",
    "from keras.layers import Input, Dense, Flatten"
   ]
  },
  {
   "cell_type": "code",
   "execution_count": 3,
   "metadata": {},
   "outputs": [],
   "source": [
    "# Load the dataset\n",
    "MNIST = tf.keras.datasets.mnist\n",
    "(x_train, y_train),(x_test, y_test) = MNIST.load_data(path='mnist.npz')\n",
    "# if you dont have the data downloaded\n",
    "#(x_train, y_train),(x_test, y_test) = mnist.load_data()\n",
    "x_train, x_test = x_train / 255.0, x_test / 255.0\n",
    "\n",
    "y_train = keras.utils.to_categorical(y_train, num_classes=10)\n",
    "y_test  = keras.utils.to_categorical(y_test, num_classes=10)\n",
    "\n",
    "x_train = x_train.reshape((x_train.shape[0],-1)) # convert the 28X28 image to a vector of 784\n",
    "x_test  = x_test.reshape((x_test.shape[0],-1))"
   ]
  },
  {
   "cell_type": "code",
   "execution_count": 4,
   "metadata": {},
   "outputs": [
    {
     "name": "stdout",
     "output_type": "stream",
     "text": [
      "_________________________________________________________________\n",
      "Layer (type)                 Output Shape              Param #   \n",
      "=================================================================\n",
      "input_1 (InputLayer)         (None, 784)               0         \n",
      "_________________________________________________________________\n",
      "dense_1 (Dense)              (None, 64)                50240     \n",
      "_________________________________________________________________\n",
      "dense_2 (Dense)              (None, 32)                2080      \n",
      "_________________________________________________________________\n",
      "dense_3 (Dense)              (None, 10)                330       \n",
      "=================================================================\n",
      "Total params: 52,650\n",
      "Trainable params: 52,650\n",
      "Non-trainable params: 0\n",
      "_________________________________________________________________\n",
      "Train on 60000 samples, validate on 10000 samples\n",
      "Epoch 1/8\n",
      "60000/60000 [==============================] - 6s 106us/step - loss: 0.3311 - acc: 0.9048 - val_loss: 0.1735 - val_acc: 0.9461\n",
      "Epoch 2/8\n",
      "60000/60000 [==============================] - 6s 95us/step - loss: 0.1513 - acc: 0.9558 - val_loss: 0.1286 - val_acc: 0.9610\n",
      "Epoch 3/8\n",
      "60000/60000 [==============================] - 6s 96us/step - loss: 0.1118 - acc: 0.9663 - val_loss: 0.1135 - val_acc: 0.9669\n",
      "Epoch 4/8\n",
      "60000/60000 [==============================] - 6s 95us/step - loss: 0.0891 - acc: 0.9733 - val_loss: 0.0990 - val_acc: 0.9694\n",
      "Epoch 5/8\n",
      "60000/60000 [==============================] - 6s 95us/step - loss: 0.0743 - acc: 0.9770 - val_loss: 0.0982 - val_acc: 0.9697\n",
      "Epoch 6/8\n",
      "60000/60000 [==============================] - 5s 91us/step - loss: 0.0630 - acc: 0.9809 - val_loss: 0.0957 - val_acc: 0.9722\n",
      "Epoch 7/8\n",
      "60000/60000 [==============================] - 5s 90us/step - loss: 0.0524 - acc: 0.9840 - val_loss: 0.1008 - val_acc: 0.9712\n",
      "Epoch 8/8\n",
      "60000/60000 [==============================] - 5s 86us/step - loss: 0.0467 - acc: 0.9855 - val_loss: 0.1045 - val_acc: 0.9699\n"
     ]
    }
   ],
   "source": [
    "# CReate the model\n",
    "inputs = Input(shape=(784,))\n",
    "lay1   = Dense(64,activation='relu')(inputs)\n",
    "lay2   = Dense(32,activation='relu')(lay1)\n",
    "lay3   = Dense(10,activation='softmax')(lay2) \n",
    "\n",
    "mnist_MLP_model = Model(inputs=inputs, outputs=lay3)\n",
    "mnist_MLP_model.summary()\n",
    "\n",
    "mnist_MLP_model.compile(optimizer='Adam',loss='categorical_crossentropy', metrics=['accuracy'])\n",
    "\n",
    "history = mnist_MLP_model.fit(x=x_train,y=y_train,batch_size=64, epochs=8,validation_data=(x_test,y_test))\n",
    "\n",
    "mnist_MLP_model.save('mnist_MLP_model.h5') # save the model"
   ]
  },
  {
   "cell_type": "code",
   "execution_count": 5,
   "metadata": {},
   "outputs": [
    {
     "data": {
      "text/plain": [
       "<matplotlib.image.AxesImage at 0x7f2c2e313160>"
      ]
     },
     "execution_count": 5,
     "metadata": {},
     "output_type": "execute_result"
    },
    {
     "data": {
      "image/png": "[encoded data removed]",
      "text/plain": [
       "<Figure size 432x288 with 1 Axes>"
      ]
     },
     "metadata": {
      "needs_background": "light"
     },
     "output_type": "display_data"
    }
   ],
   "source": [
    "fig = x_test[10,:].reshape((28,28))\n",
    "plt.imshow(fig)"
   ]
  },
  {
   "cell_type": "code",
   "execution_count": 6,
   "metadata": {},
   "outputs": [
    {
     "data": {
      "text/plain": [
       "array([[9.9985266e-01, 4.9184939e-10, 5.1580570e-05, 6.6902111e-08,\n",
       "        2.2193042e-10, 4.7171889e-07, 1.5236583e-06, 2.6574492e-08,\n",
       "        6.6344040e-07, 9.3040384e-05]], dtype=float32)"
      ]
     },
     "execution_count": 6,
     "metadata": {},
     "output_type": "execute_result"
    }
   ],
   "source": [
    "mnist_MLP_model.predict(x_test[10:11,:])"
   ]
  },
  {
   "cell_type": "code",
   "execution_count": 7,
   "metadata": {},
   "outputs": [],
   "source": [
    "del mnist_MLP_model # delet the model"
   ]
  },
  {
   "cell_type": "code",
   "execution_count": 8,
   "metadata": {},
   "outputs": [
    {
     "ename": "NameError",
     "evalue": "name 'mnist_MLP_model' is not defined",
     "output_type": "error",
     "traceback": [
      "\u001b[0;31m---------------------------------------------------------------------------\u001b[0m",
      "\u001b[0;31mNameError\u001b[0m                                 Traceback (most recent call last)",
      "\u001b[0;32m<ipython-input-8-3b719eb70217>\u001b[0m in \u001b[0;36m<module>\u001b[0;34m\u001b[0m\n\u001b[0;32m----> 1\u001b[0;31m \u001b[0mmnist_MLP_model\u001b[0m\u001b[0;34m.\u001b[0m\u001b[0mpredict\u001b[0m\u001b[0;34m(\u001b[0m\u001b[0mx_test\u001b[0m\u001b[0;34m[\u001b[0m\u001b[0;36m10\u001b[0m\u001b[0;34m:\u001b[0m\u001b[0;36m11\u001b[0m\u001b[0;34m,\u001b[0m\u001b[0;34m:\u001b[0m\u001b[0;34m]\u001b[0m\u001b[0;34m)\u001b[0m\u001b[0;34m\u001b[0m\u001b[0;34m\u001b[0m\u001b[0m\n\u001b[0m",
      "\u001b[0;31mNameError\u001b[0m: name 'mnist_MLP_model' is not defined"
     ]
    }
   ],
   "source": [
    "mnist_MLP_model.predict(x_test[10:11,:])"
   ]
  },
  {
   "cell_type": "code",
   "execution_count": 11,
   "metadata": {},
   "outputs": [],
   "source": [
    "from keras.models import load_model\n",
    "model=load_model('mnist_MLP_model.h5') # do not forget to put .h5 extension and '', otherwise wont work"
   ]
  },
  {
   "cell_type": "code",
   "execution_count": 12,
   "metadata": {},
   "outputs": [
    {
     "data": {
      "text/plain": [
       "array([[9.9985266e-01, 4.9184939e-10, 5.1580570e-05, 6.6902111e-08,\n",
       "        2.2193042e-10, 4.7171889e-07, 1.5236583e-06, 2.6574492e-08,\n",
       "        6.6344040e-07, 9.3040384e-05]], dtype=float32)"
      ]
     },
     "execution_count": 12,
     "metadata": {},
     "output_type": "execute_result"
    }
   ],
   "source": [
    "model.predict(x_test[10:11,:])"
   ]
  },
  {
   "cell_type": "code",
   "execution_count": 13,
   "metadata": {},
   "outputs": [
    {
     "name": "stdout",
     "output_type": "stream",
     "text": [
      "Train on 60000 samples, validate on 10000 samples\n",
      "Epoch 1/3\n",
      "60000/60000 [==============================] - 6s 97us/step - loss: 0.0410 - acc: 0.9875 - val_loss: 0.0835 - val_acc: 0.9757\n",
      "Epoch 2/3\n",
      "60000/60000 [==============================] - 6s 96us/step - loss: 0.0350 - acc: 0.9891 - val_loss: 0.1073 - val_acc: 0.9700\n",
      "Epoch 3/3\n",
      "60000/60000 [==============================] - 6s 96us/step - loss: 0.0303 - acc: 0.9910 - val_loss: 0.0919 - val_acc: 0.9751\n"
     ]
    }
   ],
   "source": [
    "history = model.fit(x=x_train,y=y_train,batch_size=64, epochs=3,validation_data=(x_test,y_test)) # not that it \n",
    "# continue the training from where it left !"
   ]
  },
  {
   "cell_type": "code",
   "execution_count": null,
   "metadata": {},
   "outputs": [],
   "source": []
  }
 ],
 "metadata": {
  "kernelspec": {
   "display_name": "Python 3",
   "language": "python",
   "name": "python3"
  },
  "language_info": {
   "codemirror_mode": {
    "name": "ipython",
    "version": 3
   },
   "file_extension": ".py",
   "mimetype": "text/x-python",
   "name": "python",
   "nbconvert_exporter": "python",
   "pygments_lexer": "ipython3",
   "version": "3.6.8"
  }
 },
 "nbformat": 4,
 "nbformat_minor": 2
}
